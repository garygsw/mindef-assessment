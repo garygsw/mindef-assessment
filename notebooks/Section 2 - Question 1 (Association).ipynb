{
 "cells": [
  {
   "cell_type": "markdown",
   "id": "ca938b6d",
   "metadata": {},
   "source": [
    "# Question 1 (Association)\n",
    "Download the list of transactions by each property agent from https://data.gov.sg/dataset/cea-salesperson-residential-transaction-record, and focus on HDB resale flat transactions where a property agent represented the seller.\n",
    "\n",
    "**Task 1**: Examine the distribution for number of sales closed by an agent in a year & suggest a probability distribution that may be suitable for modelling this set of values. What are some ways in which your suggested distribution is appropriate? What are some of its limitations?"
   ]
  },
  {
   "cell_type": "code",
   "execution_count": 85,
   "id": "6368b4de",
   "metadata": {},
   "outputs": [],
   "source": [
    "import pandas as pd\n",
    "import numpy as np\n",
    "np.random.seed(999)\n",
    "import seaborn as sns\n",
    "import scipy\n",
    "sns.set_style('white')\n",
    "sns.set_context(\"paper\", font_scale=2)"
   ]
  },
  {
   "cell_type": "markdown",
   "id": "b606aabb",
   "metadata": {},
   "source": [
    "## Load raw data"
   ]
  },
  {
   "cell_type": "code",
   "execution_count": 86,
   "id": "64ce7c13",
   "metadata": {},
   "outputs": [],
   "source": [
    "# source link: https://beta.data.gov.sg/datasets/d_ee7e46d3c57f7865790704632b0aef71/view\n",
    "filepath = \"../data/raw/CEASalespersonsPropertyTransactionRecordsresidential.csv\""
   ]
  },
  {
   "cell_type": "code",
   "execution_count": 87,
   "id": "2dc840fb",
   "metadata": {},
   "outputs": [],
   "source": [
    "df = pd.read_csv(filepath)"
   ]
  },
  {
   "cell_type": "code",
   "execution_count": 88,
   "id": "c93790a2",
   "metadata": {},
   "outputs": [
    {
     "name": "stdout",
     "output_type": "stream",
     "text": [
      "<class 'pandas.core.frame.DataFrame'>\n",
      "RangeIndex: 799858 entries, 0 to 799857\n",
      "Data columns (total 9 columns):\n",
      " #   Column               Non-Null Count   Dtype \n",
      "---  ------               --------------   ----- \n",
      " 0   salesperson_name     799858 non-null  object\n",
      " 1   transaction_date     799858 non-null  object\n",
      " 2   salesperson_reg_num  799858 non-null  object\n",
      " 3   property_type        799858 non-null  object\n",
      " 4   transaction_type     799858 non-null  object\n",
      " 5   represented          799858 non-null  object\n",
      " 6   town                 799858 non-null  object\n",
      " 7   district             799858 non-null  object\n",
      " 8   general_location     799858 non-null  object\n",
      "dtypes: object(9)\n",
      "memory usage: 54.9+ MB\n"
     ]
    }
   ],
   "source": [
    "df.info()"
   ]
  },
  {
   "cell_type": "code",
   "execution_count": 89,
   "id": "74d71284",
   "metadata": {},
   "outputs": [
    {
     "data": {
      "text/html": [
       "<div>\n",
       "<style scoped>\n",
       "    .dataframe tbody tr th:only-of-type {\n",
       "        vertical-align: middle;\n",
       "    }\n",
       "\n",
       "    .dataframe tbody tr th {\n",
       "        vertical-align: top;\n",
       "    }\n",
       "\n",
       "    .dataframe thead th {\n",
       "        text-align: right;\n",
       "    }\n",
       "</style>\n",
       "<table border=\"1\" class=\"dataframe\">\n",
       "  <thead>\n",
       "    <tr style=\"text-align: right;\">\n",
       "      <th></th>\n",
       "      <th>salesperson_name</th>\n",
       "      <th>transaction_date</th>\n",
       "      <th>salesperson_reg_num</th>\n",
       "      <th>property_type</th>\n",
       "      <th>transaction_type</th>\n",
       "      <th>represented</th>\n",
       "      <th>town</th>\n",
       "      <th>district</th>\n",
       "      <th>general_location</th>\n",
       "    </tr>\n",
       "  </thead>\n",
       "  <tbody>\n",
       "    <tr>\n",
       "      <th>0</th>\n",
       "      <td>SOH HUI HUA</td>\n",
       "      <td>OCT-2017</td>\n",
       "      <td>P000003I</td>\n",
       "      <td>HDB</td>\n",
       "      <td>RESALE</td>\n",
       "      <td>SELLER</td>\n",
       "      <td>YISHUN</td>\n",
       "      <td>-</td>\n",
       "      <td>-</td>\n",
       "    </tr>\n",
       "    <tr>\n",
       "      <th>1</th>\n",
       "      <td>SOH HUI HUA</td>\n",
       "      <td>MAR-2018</td>\n",
       "      <td>P000003I</td>\n",
       "      <td>HDB</td>\n",
       "      <td>RESALE</td>\n",
       "      <td>BUYER</td>\n",
       "      <td>KALLANG/WHAMPOA</td>\n",
       "      <td>-</td>\n",
       "      <td>-</td>\n",
       "    </tr>\n",
       "    <tr>\n",
       "      <th>2</th>\n",
       "      <td>SOH HUI HUA</td>\n",
       "      <td>JAN-2017</td>\n",
       "      <td>P000003I</td>\n",
       "      <td>HDB</td>\n",
       "      <td>RESALE</td>\n",
       "      <td>BUYER</td>\n",
       "      <td>YISHUN</td>\n",
       "      <td>-</td>\n",
       "      <td>-</td>\n",
       "    </tr>\n",
       "    <tr>\n",
       "      <th>3</th>\n",
       "      <td>SOH HUI HUA</td>\n",
       "      <td>MAY-2018</td>\n",
       "      <td>P000003I</td>\n",
       "      <td>HDB</td>\n",
       "      <td>RESALE</td>\n",
       "      <td>SELLER</td>\n",
       "      <td>CHOA CHU KANG</td>\n",
       "      <td>-</td>\n",
       "      <td>-</td>\n",
       "    </tr>\n",
       "    <tr>\n",
       "      <th>4</th>\n",
       "      <td>SOH HUI HUA</td>\n",
       "      <td>NOV-2017</td>\n",
       "      <td>P000003I</td>\n",
       "      <td>HDB</td>\n",
       "      <td>RESALE</td>\n",
       "      <td>SELLER</td>\n",
       "      <td>CHOA CHU KANG</td>\n",
       "      <td>-</td>\n",
       "      <td>-</td>\n",
       "    </tr>\n",
       "  </tbody>\n",
       "</table>\n",
       "</div>"
      ],
      "text/plain": [
       "  salesperson_name transaction_date salesperson_reg_num property_type  \\\n",
       "0      SOH HUI HUA         OCT-2017            P000003I           HDB   \n",
       "1      SOH HUI HUA         MAR-2018            P000003I           HDB   \n",
       "2      SOH HUI HUA         JAN-2017            P000003I           HDB   \n",
       "3      SOH HUI HUA         MAY-2018            P000003I           HDB   \n",
       "4      SOH HUI HUA         NOV-2017            P000003I           HDB   \n",
       "\n",
       "  transaction_type represented             town district general_location  \n",
       "0           RESALE      SELLER           YISHUN        -                -  \n",
       "1           RESALE       BUYER  KALLANG/WHAMPOA        -                -  \n",
       "2           RESALE       BUYER           YISHUN        -                -  \n",
       "3           RESALE      SELLER    CHOA CHU KANG        -                -  \n",
       "4           RESALE      SELLER    CHOA CHU KANG        -                -  "
      ]
     },
     "execution_count": 89,
     "metadata": {},
     "output_type": "execute_result"
    }
   ],
   "source": [
    "df.head()"
   ]
  },
  {
   "cell_type": "markdown",
   "id": "7a326e2b",
   "metadata": {},
   "source": [
    "## Explore data"
   ]
  },
  {
   "cell_type": "code",
   "execution_count": 90,
   "id": "ae7ca63a",
   "metadata": {},
   "outputs": [
    {
     "name": "stderr",
     "output_type": "stream",
     "text": [
      "/var/folders/gm/ppd2vnjn0c1b0dkm71t7rz0m0000gn/T/ipykernel_91523/4067073277.py:1: UserWarning: Could not infer format, so each element will be parsed individually, falling back to `dateutil`. To ensure parsing is consistent and as-expected, please specify a format.\n",
      "  df[\"date\"] = pd.to_datetime(df['transaction_date'])\n"
     ]
    }
   ],
   "source": [
    "df[\"date\"] = pd.to_datetime(df['transaction_date'])"
   ]
  },
  {
   "cell_type": "code",
   "execution_count": 91,
   "id": "83ba74bd",
   "metadata": {},
   "outputs": [
    {
     "data": {
      "text/html": [
       "<div>\n",
       "<style scoped>\n",
       "    .dataframe tbody tr th:only-of-type {\n",
       "        vertical-align: middle;\n",
       "    }\n",
       "\n",
       "    .dataframe tbody tr th {\n",
       "        vertical-align: top;\n",
       "    }\n",
       "\n",
       "    .dataframe thead th {\n",
       "        text-align: right;\n",
       "    }\n",
       "</style>\n",
       "<table border=\"1\" class=\"dataframe\">\n",
       "  <thead>\n",
       "    <tr style=\"text-align: right;\">\n",
       "      <th></th>\n",
       "      <th>salesperson_name</th>\n",
       "      <th>transaction_date</th>\n",
       "      <th>salesperson_reg_num</th>\n",
       "      <th>property_type</th>\n",
       "      <th>transaction_type</th>\n",
       "      <th>represented</th>\n",
       "      <th>town</th>\n",
       "      <th>district</th>\n",
       "      <th>general_location</th>\n",
       "      <th>date</th>\n",
       "    </tr>\n",
       "  </thead>\n",
       "  <tbody>\n",
       "    <tr>\n",
       "      <th>0</th>\n",
       "      <td>SOH HUI HUA</td>\n",
       "      <td>OCT-2017</td>\n",
       "      <td>P000003I</td>\n",
       "      <td>HDB</td>\n",
       "      <td>RESALE</td>\n",
       "      <td>SELLER</td>\n",
       "      <td>YISHUN</td>\n",
       "      <td>-</td>\n",
       "      <td>-</td>\n",
       "      <td>2017-10-01</td>\n",
       "    </tr>\n",
       "    <tr>\n",
       "      <th>1</th>\n",
       "      <td>SOH HUI HUA</td>\n",
       "      <td>MAR-2018</td>\n",
       "      <td>P000003I</td>\n",
       "      <td>HDB</td>\n",
       "      <td>RESALE</td>\n",
       "      <td>BUYER</td>\n",
       "      <td>KALLANG/WHAMPOA</td>\n",
       "      <td>-</td>\n",
       "      <td>-</td>\n",
       "      <td>2018-03-01</td>\n",
       "    </tr>\n",
       "    <tr>\n",
       "      <th>2</th>\n",
       "      <td>SOH HUI HUA</td>\n",
       "      <td>JAN-2017</td>\n",
       "      <td>P000003I</td>\n",
       "      <td>HDB</td>\n",
       "      <td>RESALE</td>\n",
       "      <td>BUYER</td>\n",
       "      <td>YISHUN</td>\n",
       "      <td>-</td>\n",
       "      <td>-</td>\n",
       "      <td>2017-01-01</td>\n",
       "    </tr>\n",
       "    <tr>\n",
       "      <th>3</th>\n",
       "      <td>SOH HUI HUA</td>\n",
       "      <td>MAY-2018</td>\n",
       "      <td>P000003I</td>\n",
       "      <td>HDB</td>\n",
       "      <td>RESALE</td>\n",
       "      <td>SELLER</td>\n",
       "      <td>CHOA CHU KANG</td>\n",
       "      <td>-</td>\n",
       "      <td>-</td>\n",
       "      <td>2018-05-01</td>\n",
       "    </tr>\n",
       "    <tr>\n",
       "      <th>4</th>\n",
       "      <td>SOH HUI HUA</td>\n",
       "      <td>NOV-2017</td>\n",
       "      <td>P000003I</td>\n",
       "      <td>HDB</td>\n",
       "      <td>RESALE</td>\n",
       "      <td>SELLER</td>\n",
       "      <td>CHOA CHU KANG</td>\n",
       "      <td>-</td>\n",
       "      <td>-</td>\n",
       "      <td>2017-11-01</td>\n",
       "    </tr>\n",
       "  </tbody>\n",
       "</table>\n",
       "</div>"
      ],
      "text/plain": [
       "  salesperson_name transaction_date salesperson_reg_num property_type  \\\n",
       "0      SOH HUI HUA         OCT-2017            P000003I           HDB   \n",
       "1      SOH HUI HUA         MAR-2018            P000003I           HDB   \n",
       "2      SOH HUI HUA         JAN-2017            P000003I           HDB   \n",
       "3      SOH HUI HUA         MAY-2018            P000003I           HDB   \n",
       "4      SOH HUI HUA         NOV-2017            P000003I           HDB   \n",
       "\n",
       "  transaction_type represented             town district general_location  \\\n",
       "0           RESALE      SELLER           YISHUN        -                -   \n",
       "1           RESALE       BUYER  KALLANG/WHAMPOA        -                -   \n",
       "2           RESALE       BUYER           YISHUN        -                -   \n",
       "3           RESALE      SELLER    CHOA CHU KANG        -                -   \n",
       "4           RESALE      SELLER    CHOA CHU KANG        -                -   \n",
       "\n",
       "        date  \n",
       "0 2017-10-01  \n",
       "1 2018-03-01  \n",
       "2 2017-01-01  \n",
       "3 2018-05-01  \n",
       "4 2017-11-01  "
      ]
     },
     "execution_count": 91,
     "metadata": {},
     "output_type": "execute_result"
    }
   ],
   "source": [
    "df.head()"
   ]
  },
  {
   "cell_type": "code",
   "execution_count": 92,
   "id": "76c6e966",
   "metadata": {},
   "outputs": [
    {
     "data": {
      "text/plain": [
       "(Timestamp('2017-01-01 00:00:00'), Timestamp('2023-10-01 00:00:00'))"
      ]
     },
     "execution_count": 92,
     "metadata": {},
     "output_type": "execute_result"
    }
   ],
   "source": [
    "min(df[\"date\"]), max(df[\"date\"])\n",
    "# question asked to look in a year.. so we look from 2022 Oct onwards"
   ]
  },
  {
   "cell_type": "code",
   "execution_count": 93,
   "id": "9e55e58a",
   "metadata": {},
   "outputs": [
    {
     "data": {
      "text/html": [
       "<div>\n",
       "<style scoped>\n",
       "    .dataframe tbody tr th:only-of-type {\n",
       "        vertical-align: middle;\n",
       "    }\n",
       "\n",
       "    .dataframe tbody tr th {\n",
       "        vertical-align: top;\n",
       "    }\n",
       "\n",
       "    .dataframe thead th {\n",
       "        text-align: right;\n",
       "    }\n",
       "</style>\n",
       "<table border=\"1\" class=\"dataframe\">\n",
       "  <thead>\n",
       "    <tr style=\"text-align: right;\">\n",
       "      <th></th>\n",
       "      <th>salesperson_name</th>\n",
       "      <th>transaction_date</th>\n",
       "      <th>salesperson_reg_num</th>\n",
       "      <th>transaction_type</th>\n",
       "      <th>represented</th>\n",
       "      <th>town</th>\n",
       "      <th>district</th>\n",
       "      <th>general_location</th>\n",
       "      <th>date</th>\n",
       "    </tr>\n",
       "    <tr>\n",
       "      <th>property_type</th>\n",
       "      <th></th>\n",
       "      <th></th>\n",
       "      <th></th>\n",
       "      <th></th>\n",
       "      <th></th>\n",
       "      <th></th>\n",
       "      <th></th>\n",
       "      <th></th>\n",
       "      <th></th>\n",
       "    </tr>\n",
       "  </thead>\n",
       "  <tbody>\n",
       "    <tr>\n",
       "      <th>CONDOMINIUM_APARTMENTS</th>\n",
       "      <td>369349</td>\n",
       "      <td>369349</td>\n",
       "      <td>369349</td>\n",
       "      <td>369349</td>\n",
       "      <td>369349</td>\n",
       "      <td>369349</td>\n",
       "      <td>369349</td>\n",
       "      <td>369349</td>\n",
       "      <td>369349</td>\n",
       "    </tr>\n",
       "    <tr>\n",
       "      <th>EXECUTIVE_CONDOMINIUM</th>\n",
       "      <td>8228</td>\n",
       "      <td>8228</td>\n",
       "      <td>8228</td>\n",
       "      <td>8228</td>\n",
       "      <td>8228</td>\n",
       "      <td>8228</td>\n",
       "      <td>8228</td>\n",
       "      <td>8228</td>\n",
       "      <td>8228</td>\n",
       "    </tr>\n",
       "    <tr>\n",
       "      <th>HDB</th>\n",
       "      <td>380986</td>\n",
       "      <td>380986</td>\n",
       "      <td>380986</td>\n",
       "      <td>380986</td>\n",
       "      <td>380986</td>\n",
       "      <td>380986</td>\n",
       "      <td>380986</td>\n",
       "      <td>380986</td>\n",
       "      <td>380986</td>\n",
       "    </tr>\n",
       "    <tr>\n",
       "      <th>LANDED</th>\n",
       "      <td>39046</td>\n",
       "      <td>39046</td>\n",
       "      <td>39046</td>\n",
       "      <td>39046</td>\n",
       "      <td>39046</td>\n",
       "      <td>39046</td>\n",
       "      <td>39046</td>\n",
       "      <td>39046</td>\n",
       "      <td>39046</td>\n",
       "    </tr>\n",
       "    <tr>\n",
       "      <th>STRATA_LANDED</th>\n",
       "      <td>2249</td>\n",
       "      <td>2249</td>\n",
       "      <td>2249</td>\n",
       "      <td>2249</td>\n",
       "      <td>2249</td>\n",
       "      <td>2249</td>\n",
       "      <td>2249</td>\n",
       "      <td>2249</td>\n",
       "      <td>2249</td>\n",
       "    </tr>\n",
       "  </tbody>\n",
       "</table>\n",
       "</div>"
      ],
      "text/plain": [
       "                        salesperson_name  transaction_date  \\\n",
       "property_type                                                \n",
       "CONDOMINIUM_APARTMENTS            369349            369349   \n",
       "EXECUTIVE_CONDOMINIUM               8228              8228   \n",
       "HDB                               380986            380986   \n",
       "LANDED                             39046             39046   \n",
       "STRATA_LANDED                       2249              2249   \n",
       "\n",
       "                        salesperson_reg_num  transaction_type  represented  \\\n",
       "property_type                                                                \n",
       "CONDOMINIUM_APARTMENTS               369349            369349       369349   \n",
       "EXECUTIVE_CONDOMINIUM                  8228              8228         8228   \n",
       "HDB                                  380986            380986       380986   \n",
       "LANDED                                39046             39046        39046   \n",
       "STRATA_LANDED                          2249              2249         2249   \n",
       "\n",
       "                          town  district  general_location    date  \n",
       "property_type                                                       \n",
       "CONDOMINIUM_APARTMENTS  369349    369349            369349  369349  \n",
       "EXECUTIVE_CONDOMINIUM     8228      8228              8228    8228  \n",
       "HDB                     380986    380986            380986  380986  \n",
       "LANDED                   39046     39046             39046   39046  \n",
       "STRATA_LANDED             2249      2249              2249    2249  "
      ]
     },
     "execution_count": 93,
     "metadata": {},
     "output_type": "execute_result"
    }
   ],
   "source": [
    "df.groupby(\"property_type\").count()"
   ]
  },
  {
   "cell_type": "code",
   "execution_count": 94,
   "id": "90619c46",
   "metadata": {},
   "outputs": [
    {
     "data": {
      "text/html": [
       "<div>\n",
       "<style scoped>\n",
       "    .dataframe tbody tr th:only-of-type {\n",
       "        vertical-align: middle;\n",
       "    }\n",
       "\n",
       "    .dataframe tbody tr th {\n",
       "        vertical-align: top;\n",
       "    }\n",
       "\n",
       "    .dataframe thead th {\n",
       "        text-align: right;\n",
       "    }\n",
       "</style>\n",
       "<table border=\"1\" class=\"dataframe\">\n",
       "  <thead>\n",
       "    <tr style=\"text-align: right;\">\n",
       "      <th></th>\n",
       "      <th>salesperson_name</th>\n",
       "      <th>transaction_date</th>\n",
       "      <th>salesperson_reg_num</th>\n",
       "      <th>property_type</th>\n",
       "      <th>transaction_type</th>\n",
       "      <th>town</th>\n",
       "      <th>district</th>\n",
       "      <th>general_location</th>\n",
       "      <th>date</th>\n",
       "    </tr>\n",
       "    <tr>\n",
       "      <th>represented</th>\n",
       "      <th></th>\n",
       "      <th></th>\n",
       "      <th></th>\n",
       "      <th></th>\n",
       "      <th></th>\n",
       "      <th></th>\n",
       "      <th></th>\n",
       "      <th></th>\n",
       "      <th></th>\n",
       "    </tr>\n",
       "  </thead>\n",
       "  <tbody>\n",
       "    <tr>\n",
       "      <th>BUYER</th>\n",
       "      <td>131786</td>\n",
       "      <td>131786</td>\n",
       "      <td>131786</td>\n",
       "      <td>131786</td>\n",
       "      <td>131786</td>\n",
       "      <td>131786</td>\n",
       "      <td>131786</td>\n",
       "      <td>131786</td>\n",
       "      <td>131786</td>\n",
       "    </tr>\n",
       "    <tr>\n",
       "      <th>LANDLORD</th>\n",
       "      <td>340609</td>\n",
       "      <td>340609</td>\n",
       "      <td>340609</td>\n",
       "      <td>340609</td>\n",
       "      <td>340609</td>\n",
       "      <td>340609</td>\n",
       "      <td>340609</td>\n",
       "      <td>340609</td>\n",
       "      <td>340609</td>\n",
       "    </tr>\n",
       "    <tr>\n",
       "      <th>SELLER</th>\n",
       "      <td>227519</td>\n",
       "      <td>227519</td>\n",
       "      <td>227519</td>\n",
       "      <td>227519</td>\n",
       "      <td>227519</td>\n",
       "      <td>227519</td>\n",
       "      <td>227519</td>\n",
       "      <td>227519</td>\n",
       "      <td>227519</td>\n",
       "    </tr>\n",
       "    <tr>\n",
       "      <th>TENANT</th>\n",
       "      <td>99944</td>\n",
       "      <td>99944</td>\n",
       "      <td>99944</td>\n",
       "      <td>99944</td>\n",
       "      <td>99944</td>\n",
       "      <td>99944</td>\n",
       "      <td>99944</td>\n",
       "      <td>99944</td>\n",
       "      <td>99944</td>\n",
       "    </tr>\n",
       "  </tbody>\n",
       "</table>\n",
       "</div>"
      ],
      "text/plain": [
       "             salesperson_name  transaction_date  salesperson_reg_num  \\\n",
       "represented                                                            \n",
       "BUYER                  131786            131786               131786   \n",
       "LANDLORD               340609            340609               340609   \n",
       "SELLER                 227519            227519               227519   \n",
       "TENANT                  99944             99944                99944   \n",
       "\n",
       "             property_type  transaction_type    town  district  \\\n",
       "represented                                                      \n",
       "BUYER               131786            131786  131786    131786   \n",
       "LANDLORD            340609            340609  340609    340609   \n",
       "SELLER              227519            227519  227519    227519   \n",
       "TENANT               99944             99944   99944     99944   \n",
       "\n",
       "             general_location    date  \n",
       "represented                            \n",
       "BUYER                  131786  131786  \n",
       "LANDLORD               340609  340609  \n",
       "SELLER                 227519  227519  \n",
       "TENANT                  99944   99944  "
      ]
     },
     "execution_count": 94,
     "metadata": {},
     "output_type": "execute_result"
    }
   ],
   "source": [
    "df.groupby(\"represented\").count()"
   ]
  },
  {
   "cell_type": "code",
   "execution_count": 95,
   "id": "cbd658a2",
   "metadata": {},
   "outputs": [
    {
     "data": {
      "text/html": [
       "<div>\n",
       "<style scoped>\n",
       "    .dataframe tbody tr th:only-of-type {\n",
       "        vertical-align: middle;\n",
       "    }\n",
       "\n",
       "    .dataframe tbody tr th {\n",
       "        vertical-align: top;\n",
       "    }\n",
       "\n",
       "    .dataframe thead th {\n",
       "        text-align: right;\n",
       "    }\n",
       "</style>\n",
       "<table border=\"1\" class=\"dataframe\">\n",
       "  <thead>\n",
       "    <tr style=\"text-align: right;\">\n",
       "      <th></th>\n",
       "      <th>salesperson_name</th>\n",
       "      <th>transaction_date</th>\n",
       "      <th>salesperson_reg_num</th>\n",
       "      <th>property_type</th>\n",
       "      <th>represented</th>\n",
       "      <th>town</th>\n",
       "      <th>district</th>\n",
       "      <th>general_location</th>\n",
       "      <th>date</th>\n",
       "    </tr>\n",
       "    <tr>\n",
       "      <th>transaction_type</th>\n",
       "      <th></th>\n",
       "      <th></th>\n",
       "      <th></th>\n",
       "      <th></th>\n",
       "      <th></th>\n",
       "      <th></th>\n",
       "      <th></th>\n",
       "      <th></th>\n",
       "      <th></th>\n",
       "    </tr>\n",
       "  </thead>\n",
       "  <tbody>\n",
       "    <tr>\n",
       "      <th>NEW SALE</th>\n",
       "      <td>35447</td>\n",
       "      <td>35447</td>\n",
       "      <td>35447</td>\n",
       "      <td>35447</td>\n",
       "      <td>35447</td>\n",
       "      <td>35447</td>\n",
       "      <td>35447</td>\n",
       "      <td>35447</td>\n",
       "      <td>35447</td>\n",
       "    </tr>\n",
       "    <tr>\n",
       "      <th>RESALE</th>\n",
       "      <td>323739</td>\n",
       "      <td>323739</td>\n",
       "      <td>323739</td>\n",
       "      <td>323739</td>\n",
       "      <td>323739</td>\n",
       "      <td>323739</td>\n",
       "      <td>323739</td>\n",
       "      <td>323739</td>\n",
       "      <td>323739</td>\n",
       "    </tr>\n",
       "    <tr>\n",
       "      <th>ROOM RENTAL</th>\n",
       "      <td>73075</td>\n",
       "      <td>73075</td>\n",
       "      <td>73075</td>\n",
       "      <td>73075</td>\n",
       "      <td>73075</td>\n",
       "      <td>73075</td>\n",
       "      <td>73075</td>\n",
       "      <td>73075</td>\n",
       "      <td>73075</td>\n",
       "    </tr>\n",
       "    <tr>\n",
       "      <th>SUB-SALE</th>\n",
       "      <td>119</td>\n",
       "      <td>119</td>\n",
       "      <td>119</td>\n",
       "      <td>119</td>\n",
       "      <td>119</td>\n",
       "      <td>119</td>\n",
       "      <td>119</td>\n",
       "      <td>119</td>\n",
       "      <td>119</td>\n",
       "    </tr>\n",
       "    <tr>\n",
       "      <th>WHOLE RENTAL</th>\n",
       "      <td>367478</td>\n",
       "      <td>367478</td>\n",
       "      <td>367478</td>\n",
       "      <td>367478</td>\n",
       "      <td>367478</td>\n",
       "      <td>367478</td>\n",
       "      <td>367478</td>\n",
       "      <td>367478</td>\n",
       "      <td>367478</td>\n",
       "    </tr>\n",
       "  </tbody>\n",
       "</table>\n",
       "</div>"
      ],
      "text/plain": [
       "                  salesperson_name  transaction_date  salesperson_reg_num  \\\n",
       "transaction_type                                                            \n",
       "NEW SALE                     35447             35447                35447   \n",
       "RESALE                      323739            323739               323739   \n",
       "ROOM RENTAL                  73075             73075                73075   \n",
       "SUB-SALE                       119               119                  119   \n",
       "WHOLE RENTAL                367478            367478               367478   \n",
       "\n",
       "                  property_type  represented    town  district  \\\n",
       "transaction_type                                                 \n",
       "NEW SALE                  35447        35447   35447     35447   \n",
       "RESALE                   323739       323739  323739    323739   \n",
       "ROOM RENTAL               73075        73075   73075     73075   \n",
       "SUB-SALE                    119          119     119       119   \n",
       "WHOLE RENTAL             367478       367478  367478    367478   \n",
       "\n",
       "                  general_location    date  \n",
       "transaction_type                            \n",
       "NEW SALE                     35447   35447  \n",
       "RESALE                      323739  323739  \n",
       "ROOM RENTAL                  73075   73075  \n",
       "SUB-SALE                       119     119  \n",
       "WHOLE RENTAL                367478  367478  "
      ]
     },
     "execution_count": 95,
     "metadata": {},
     "output_type": "execute_result"
    }
   ],
   "source": [
    "df.groupby(\"transaction_type\").count()"
   ]
  },
  {
   "cell_type": "code",
   "execution_count": 96,
   "id": "99ce7824",
   "metadata": {},
   "outputs": [
    {
     "data": {
      "text/plain": [
       "(27225, 27583)"
      ]
     },
     "execution_count": 96,
     "metadata": {},
     "output_type": "execute_result"
    }
   ],
   "source": [
    "len(df.groupby(\"salesperson_name\").count()), len(df.groupby(\"salesperson_reg_num\").count())\n",
    "# some people may share the same name? or same person may have more than 1 reg num?\n",
    "# nevertheless, let's use salesperson_reg_num as unique identifier"
   ]
  },
  {
   "cell_type": "code",
   "execution_count": 97,
   "id": "3e31b6ba",
   "metadata": {
    "scrolled": true
   },
   "outputs": [
    {
     "name": "stdout",
     "output_type": "stream",
     "text": [
      "279\n"
     ]
    },
    {
     "data": {
      "text/plain": [
       "salesperson_name\n",
       "-                             45\n",
       "LIM CHEE KEONG                 6\n",
       "TAN BEE LIAN                   5\n",
       "ANG CHEE WEE                   4\n",
       "TAN CHOON KIAT                 4\n",
       "                              ..\n",
       "MUHAMMAD RUSYDI BIN ROSLAN     2\n",
       "NEO BEE LENG                   2\n",
       "NEO CHEE SENG                  2\n",
       "NEO KOK KEONG                  2\n",
       "ZHOU PING                      2\n",
       "Name: salesperson_reg_num, Length: 279, dtype: int64"
      ]
     },
     "execution_count": 97,
     "metadata": {},
     "output_type": "execute_result"
    }
   ],
   "source": [
    "s = df.groupby(\"salesperson_name\")[\"salesperson_reg_num\"].nunique()\n",
    "s = s[s > 1]\n",
    "print(len(s))\n",
    "s.sort_values(ascending=False)\n",
    "# just to see the repeated names "
   ]
  },
  {
   "cell_type": "markdown",
   "id": "a38441b3",
   "metadata": {},
   "source": [
    "## Prepare dataset"
   ]
  },
  {
   "cell_type": "code",
   "execution_count": 98,
   "id": "3faa68d5",
   "metadata": {},
   "outputs": [],
   "source": [
    "df = df[df[\"date\"] >= \"2022-10-01\"]"
   ]
  },
  {
   "cell_type": "code",
   "execution_count": 99,
   "id": "aca44d4b",
   "metadata": {},
   "outputs": [],
   "source": [
    "def conditions(df):\n",
    "    if (df[\"property_type\"] == \"HDB\") and (df[\"represented\"] == \"SELLER\") and (df[\"transaction_type\"] == \"RESALE\"):\n",
    "        return 1\n",
    "    return 0\n",
    "df[\"sales_count\"] = df.apply(conditions, axis=1)"
   ]
  },
  {
   "cell_type": "code",
   "execution_count": 100,
   "id": "72fa0faf",
   "metadata": {},
   "outputs": [
    {
     "name": "stdout",
     "output_type": "stream",
     "text": [
      "<class 'pandas.core.frame.DataFrame'>\n",
      "Index: 172422 entries, 5405 to 799850\n",
      "Data columns (total 11 columns):\n",
      " #   Column               Non-Null Count   Dtype         \n",
      "---  ------               --------------   -----         \n",
      " 0   salesperson_name     172422 non-null  object        \n",
      " 1   transaction_date     172422 non-null  object        \n",
      " 2   salesperson_reg_num  172422 non-null  object        \n",
      " 3   property_type        172422 non-null  object        \n",
      " 4   transaction_type     172422 non-null  object        \n",
      " 5   represented          172422 non-null  object        \n",
      " 6   town                 172422 non-null  object        \n",
      " 7   district             172422 non-null  object        \n",
      " 8   general_location     172422 non-null  object        \n",
      " 9   date                 172422 non-null  datetime64[ns]\n",
      " 10  sales_count          172422 non-null  int64         \n",
      "dtypes: datetime64[ns](1), int64(1), object(9)\n",
      "memory usage: 15.8+ MB\n"
     ]
    }
   ],
   "source": [
    "df.info()"
   ]
  },
  {
   "cell_type": "code",
   "execution_count": 101,
   "id": "35993488",
   "metadata": {},
   "outputs": [
    {
     "data": {
      "text/html": [
       "<div>\n",
       "<style scoped>\n",
       "    .dataframe tbody tr th:only-of-type {\n",
       "        vertical-align: middle;\n",
       "    }\n",
       "\n",
       "    .dataframe tbody tr th {\n",
       "        vertical-align: top;\n",
       "    }\n",
       "\n",
       "    .dataframe thead th {\n",
       "        text-align: right;\n",
       "    }\n",
       "</style>\n",
       "<table border=\"1\" class=\"dataframe\">\n",
       "  <thead>\n",
       "    <tr style=\"text-align: right;\">\n",
       "      <th></th>\n",
       "      <th>salesperson_name</th>\n",
       "      <th>transaction_date</th>\n",
       "      <th>salesperson_reg_num</th>\n",
       "      <th>property_type</th>\n",
       "      <th>transaction_type</th>\n",
       "      <th>represented</th>\n",
       "      <th>town</th>\n",
       "      <th>district</th>\n",
       "      <th>general_location</th>\n",
       "      <th>date</th>\n",
       "      <th>sales_count</th>\n",
       "    </tr>\n",
       "  </thead>\n",
       "  <tbody>\n",
       "    <tr>\n",
       "      <th>5405</th>\n",
       "      <td>LIM AI LING</td>\n",
       "      <td>OCT-2022</td>\n",
       "      <td>R001344J</td>\n",
       "      <td>HDB</td>\n",
       "      <td>RESALE</td>\n",
       "      <td>BUYER</td>\n",
       "      <td>BEDOK</td>\n",
       "      <td>-</td>\n",
       "      <td>-</td>\n",
       "      <td>2022-10-01</td>\n",
       "      <td>0</td>\n",
       "    </tr>\n",
       "    <tr>\n",
       "      <th>5408</th>\n",
       "      <td>LUI SOOK FUN</td>\n",
       "      <td>OCT-2022</td>\n",
       "      <td>P004122C</td>\n",
       "      <td>HDB</td>\n",
       "      <td>RESALE</td>\n",
       "      <td>SELLER</td>\n",
       "      <td>BUKIT BATOK</td>\n",
       "      <td>-</td>\n",
       "      <td>-</td>\n",
       "      <td>2022-10-01</td>\n",
       "      <td>1</td>\n",
       "    </tr>\n",
       "    <tr>\n",
       "      <th>5409</th>\n",
       "      <td>TAN LI HENG</td>\n",
       "      <td>OCT-2022</td>\n",
       "      <td>R000274E</td>\n",
       "      <td>HDB</td>\n",
       "      <td>RESALE</td>\n",
       "      <td>SELLER</td>\n",
       "      <td>WOODLANDS</td>\n",
       "      <td>-</td>\n",
       "      <td>-</td>\n",
       "      <td>2022-10-01</td>\n",
       "      <td>1</td>\n",
       "    </tr>\n",
       "    <tr>\n",
       "      <th>5410</th>\n",
       "      <td>HO CHAI HWA</td>\n",
       "      <td>OCT-2022</td>\n",
       "      <td>R000402F</td>\n",
       "      <td>HDB</td>\n",
       "      <td>RESALE</td>\n",
       "      <td>SELLER</td>\n",
       "      <td>SEMBAWANG</td>\n",
       "      <td>-</td>\n",
       "      <td>-</td>\n",
       "      <td>2022-10-01</td>\n",
       "      <td>1</td>\n",
       "    </tr>\n",
       "    <tr>\n",
       "      <th>5411</th>\n",
       "      <td>ONG GEOK LAN</td>\n",
       "      <td>OCT-2022</td>\n",
       "      <td>P001542G</td>\n",
       "      <td>HDB</td>\n",
       "      <td>RESALE</td>\n",
       "      <td>BUYER</td>\n",
       "      <td>ANG MO KIO</td>\n",
       "      <td>-</td>\n",
       "      <td>-</td>\n",
       "      <td>2022-10-01</td>\n",
       "      <td>0</td>\n",
       "    </tr>\n",
       "  </tbody>\n",
       "</table>\n",
       "</div>"
      ],
      "text/plain": [
       "     salesperson_name transaction_date salesperson_reg_num property_type  \\\n",
       "5405      LIM AI LING         OCT-2022            R001344J           HDB   \n",
       "5408     LUI SOOK FUN         OCT-2022            P004122C           HDB   \n",
       "5409      TAN LI HENG         OCT-2022            R000274E           HDB   \n",
       "5410      HO CHAI HWA         OCT-2022            R000402F           HDB   \n",
       "5411     ONG GEOK LAN         OCT-2022            P001542G           HDB   \n",
       "\n",
       "     transaction_type represented         town district general_location  \\\n",
       "5405           RESALE       BUYER        BEDOK        -                -   \n",
       "5408           RESALE      SELLER  BUKIT BATOK        -                -   \n",
       "5409           RESALE      SELLER    WOODLANDS        -                -   \n",
       "5410           RESALE      SELLER    SEMBAWANG        -                -   \n",
       "5411           RESALE       BUYER   ANG MO KIO        -                -   \n",
       "\n",
       "           date  sales_count  \n",
       "5405 2022-10-01            0  \n",
       "5408 2022-10-01            1  \n",
       "5409 2022-10-01            1  \n",
       "5410 2022-10-01            1  \n",
       "5411 2022-10-01            0  "
      ]
     },
     "execution_count": 101,
     "metadata": {},
     "output_type": "execute_result"
    }
   ],
   "source": [
    "df.head()"
   ]
  },
  {
   "cell_type": "code",
   "execution_count": 167,
   "id": "dc9e0f60",
   "metadata": {},
   "outputs": [],
   "source": [
    "data = df.groupby(\"salesperson_reg_num\")[\"sales_count\"].sum()"
   ]
  },
  {
   "cell_type": "code",
   "execution_count": 168,
   "id": "a19a7487",
   "metadata": {},
   "outputs": [
    {
     "data": {
      "text/plain": [
       "<seaborn.axisgrid.FacetGrid at 0x2a8d358e0>"
      ]
     },
     "execution_count": 168,
     "metadata": {},
     "output_type": "execute_result"
    },
    {
     "data": {
      "image/png": "[encoded data removed]",
      "text/plain": [
       "<Figure size 900x360 with 1 Axes>"
      ]
     },
     "metadata": {},
     "output_type": "display_data"
    }
   ],
   "source": [
    "sns.displot(\n",
    "    data=data,\n",
    "    bins=max(data),\n",
    "    aspect=2.5\n",
    ")"
   ]
  },
  {
   "cell_type": "code",
   "execution_count": 169,
   "id": "a685e727",
   "metadata": {},
   "outputs": [],
   "source": [
    "data = data[data <= 10]  # select a cut-off to remove outliers"
   ]
  },
  {
   "cell_type": "code",
   "execution_count": 170,
   "id": "f42db48c",
   "metadata": {},
   "outputs": [
    {
     "data": {
      "text/plain": [
       "<seaborn.axisgrid.FacetGrid at 0x2a81ddf70>"
      ]
     },
     "execution_count": 170,
     "metadata": {},
     "output_type": "execute_result"
    },
    {
     "data": {
      "image/png": "[encoded data removed]",
      "text/plain": [
       "<Figure size 900x360 with 1 Axes>"
      ]
     },
     "metadata": {},
     "output_type": "display_data"
    }
   ],
   "source": [
    "sns.displot(\n",
    "    data=data,\n",
    "    bins=max(data),\n",
    "    aspect=2.5\n",
    ")"
   ]
  },
  {
   "cell_type": "code",
   "execution_count": 143,
   "id": "2194c837",
   "metadata": {},
   "outputs": [
    {
     "data": {
      "text/plain": [
       "count    20481.00000\n",
       "mean         0.89312\n",
       "std          1.55459\n",
       "min          0.00000\n",
       "25%          0.00000\n",
       "50%          0.00000\n",
       "75%          1.00000\n",
       "max         10.00000\n",
       "Name: sales_count, dtype: float64"
      ]
     },
     "execution_count": 143,
     "metadata": {},
     "output_type": "execute_result"
    }
   ],
   "source": [
    "data.describe()"
   ]
  },
  {
   "cell_type": "markdown",
   "id": "fe406cec",
   "metadata": {},
   "source": [
    "## Fit Poisson distribution\n",
    "\n",
    "Since the number of sales is a discrete variable, this limit our scope to discrete distributions\n",
    "\n",
    "The most relevant discrete distribution is the Poisson distribution, which expresses the probability of a given number of events occurring in a fixed interval of time or space if these events occur with a known constant mean rate and independently of the time since the last event.\n",
    "\n",
    "The Poisson random variable counts the number of successes in independent Bernoulli trials in the limit as and  where the probability of success in each trial is and is a constant. It can be used to approximate the Binomial random variable or in its own right to count the number of events that occur in the interval for a process satisfying certain “sparsity” constraints."
   ]
  },
  {
   "cell_type": "code",
   "execution_count": 145,
   "id": "07f7b515",
   "metadata": {},
   "outputs": [
    {
     "data": {
      "text/plain": [
       "  params: FitParams(mu=0.8931204271044042, loc=0.0)\n",
       " success: True\n",
       " message: 'Optimization terminated successfully.'"
      ]
     },
     "execution_count": 145,
     "metadata": {},
     "output_type": "execute_result"
    }
   ],
   "source": [
    " # maximum likelihood estimate\n",
    "res = scipy.stats.fit(scipy.stats.poisson, data, bounds=[(0, max(data))])\n",
    "res"
   ]
  },
  {
   "cell_type": "code",
   "execution_count": 146,
   "id": "1d624a47",
   "metadata": {},
   "outputs": [
    {
     "data": {
      "text/plain": [
       "(0.8931204271044042, 31455.90339510514)"
      ]
     },
     "execution_count": 146,
     "metadata": {},
     "output_type": "execute_result"
    }
   ],
   "source": [
    "res.params.mu, res.nllf()  # negative log likelihood"
   ]
  },
  {
   "cell_type": "code",
   "execution_count": 147,
   "id": "7928a05b",
   "metadata": {},
   "outputs": [
    {
     "data": {
      "text/plain": [
       "0     4.093763e-01\n",
       "1     3.656224e-01\n",
       "2     1.632724e-01\n",
       "3     4.860731e-02\n",
       "4     1.085304e-02\n",
       "5     1.938615e-03\n",
       "6     2.885695e-04\n",
       "7     3.681818e-05\n",
       "8     4.110384e-06\n",
       "9     4.078964e-07\n",
       "10    3.643006e-08\n",
       "dtype: float64"
      ]
     },
     "execution_count": 147,
     "metadata": {},
     "output_type": "execute_result"
    }
   ],
   "source": [
    "fit = pd.Series(range(max(data) + 1))\n",
    "fit = fit.apply(lambda x: scipy.stats.poisson.pmf(x, res.params.mu))\n",
    "fit"
   ]
  },
  {
   "cell_type": "code",
   "execution_count": 172,
   "id": "964822b1",
   "metadata": {},
   "outputs": [
    {
     "data": {
      "text/plain": [
       "<Axes: xlabel='sales_count', ylabel='Density'>"
      ]
     },
     "execution_count": 172,
     "metadata": {},
     "output_type": "execute_result"
    },
    {
     "data": {
      "image/png": "[encoded data removed]",
      "text/plain": [
       "<Figure size 900x360 with 1 Axes>"
      ]
     },
     "metadata": {},
     "output_type": "display_data"
    }
   ],
   "source": [
    "sns.displot(\n",
    "    data=data,\n",
    "    stat=\"density\",\n",
    "    bins=max(data),\n",
    "    aspect=2.5,\n",
    "    alpha=0.7\n",
    ")\n",
    "sns.lineplot(\n",
    "    x=fit.index + 0.5,\n",
    "    y=fit.values,\n",
    "    color=\"red\",\n",
    "    marker=\"o\",\n",
    ")"
   ]
  },
  {
   "cell_type": "markdown",
   "id": "5a80ff45",
   "metadata": {},
   "source": [
    "The Poisson Distribution is a statistical tool that has advantages and disadvantages when used for data analysis. One of the major benefits of using this distribution model is its simplicity, especially when dealing with discrete events such as counts or occurrences.\n",
    "\n",
    "Additionally, Poisson Distribution provides an accurate representation of rare events that occur randomly over time. It can also be used to predict future events based on past observations.\n",
    "\n",
    "However, one disadvantage of using Poisson Distribution is its assumption that the mean and variance are equal. This may not always hold true in real-world scenarios where there may be changes in the underlying process.\n",
    "\n",
    "Furthermore, it’s important to note that Poisson Distribution assumes independence between intervals or periods which might not always apply in practice.\n",
    "\n",
    "Another potential drawback of using Poisson Distribution arises from limitations inherent to statistical modeling itself – it cannot account for all possible factors influencing data outcomes. Therefore, additional testing methods must often be employed alongside it to ensure reliable results."
   ]
  }
 ],
 "metadata": {
  "kernelspec": {
   "display_name": "mindef-env",
   "language": "python",
   "name": "mindef-env"
  },
  "language_info": {
   "codemirror_mode": {
    "name": "ipython",
    "version": 3
   },
   "file_extension": ".py",
   "mimetype": "text/x-python",
   "name": "python",
   "nbconvert_exporter": "python",
   "pygments_lexer": "ipython3",
   "version": "3.12.0"
  }
 },
 "nbformat": 4,
 "nbformat_minor": 5
}
